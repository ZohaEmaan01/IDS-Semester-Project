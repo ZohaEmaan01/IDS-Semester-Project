{
  "cells": [
    {
      "cell_type": "markdown",
      "metadata": {
        "id": "dmW4RnOxv_un"
      },
      "source": [
        "#**A. Dataset Selection:**"
      ]
    },
    {
      "cell_type": "markdown",
      "metadata": {
        "id": "t01vxJLSuPTl"
      },
      "source": [
        "#**Mushroom Classification Dataset**\n",
        "\n",
        "##**Attribute Information:**\n",
        "\n",
        "(**classes:** edible=e, poisonous=p)\n",
        "\n",
        "**cap-shape:** bell=b,conical=c,convex=x,flat=f, knobbed=k,sunken=s\n",
        "\n",
        "**cap-surface:** fibrous=f,grooves=g,scaly=y,smooth=s\n",
        "\n",
        "**cap-color:** brown=n,buff=b,cinnamon=c,gray=g,green=r,pink=p,purple=u,red=e,white=w,yellow=y\n",
        "\n",
        "**bruises:** bruises=t,no=f\n",
        "\n",
        "**odor:** almond=a,anise=l,creosote=c,fishy=y,foul=f,musty=m,none=n,pungent=p,spicy=s\n",
        "\n",
        "**gill-attachment:** attached=a,descending=d,free=f,notched=n\n",
        "\n",
        "**gill-spacing:** close=c,crowded=w,distant=d\n",
        "\n",
        "**gill-size:** broad=b,narrow=n\n",
        "\n",
        "**gill-color:** black=k,brown=n,buff=b,chocolate=h,gray=g, green=r,orange=o,pink=p,purple=u,red=e,white=w,yellow=y\n",
        "\n",
        "**stalk-shape:** enlarging=e,tapering=t\n",
        "\n",
        "**stalk-root:** bulbous=b,club=c,cup=u,equal=e,rhizomorphs=z,rooted=r,missing=?\n",
        "\n",
        "**stalk-surface-above-ring:** fibrous=f,scaly=y,silky=k,smooth=s\n",
        "\n",
        "**stalk-surface-below-ring:** fibrous=f,scaly=y,silky=k,smooth=s\n",
        "\n",
        "**stalk-color-above-ring:** brown=n,buff=b,cinnamon=c,gray=g,orange=o,pink=p,red=e,white=w,yellow=y\n",
        "\n",
        "**stalk-color-below-ring:** brown=n,buff=b,cinnamon=c,gray=g,orange=o,pink=p,red=e,white=w,yellow=y\n",
        "\n",
        "**veil-type:** partial=p,universal=u\n",
        "\n",
        "**veil-color:** brown=n,orange=o,white=w,yellow=y\n",
        "\n",
        "**ring-number:** none=n,one=o,two=t\n",
        "\n",
        "**ring-type:** cobwebby=c,evanescent=e,flaring=f,large=l,none=n,pendant=p,sheathing=s,zone=z\n",
        "\n",
        "**spore-print-color:** black=k,brown=n,buff=b,chocolate=h,green=r,orange=o,purple=u,white=w,yellow=y\n",
        "\n",
        "**population:** abundant=a,clustered=c,numerous=n,scattered=s,several=v,solitary=y\n",
        "\n",
        "**habitat:** grasses=g,leaves=l,meadows=m,paths=p,urban=u,waste=w,woods=d\n",
        "\n"
      ]
    },
    {
      "cell_type": "markdown",
      "metadata": {
        "id": "MZ5HSqGBwVPY"
      },
      "source": [
        "#**B. Data Cleaning and Preprocessing:**"
      ]
    },
    {
      "cell_type": "markdown",
      "metadata": {
        "id": "XWjUapatwjdt"
      },
      "source": [
        "##• Handle missing data using appropriate imputation strategies."
      ]
    },
    {
      "cell_type": "markdown",
      "source": [
        "**Handling Missing Values:**\n",
        "\n",
        "**Purpose:** Identify and address missing data in the dataset.\n",
        "\n",
        "**Method:**\n",
        "Counts missing values in each column.\n",
        "Fills missing values with the mode (most frequent value) of each column.\n",
        "Rechecks for missing values after imputation.\n",
        "\n",
        "**Insight:** There are no missing values in the dataset after imputation"
      ],
      "metadata": {
        "id": "I4f5uWTj2UO8"
      }
    },
    {
      "cell_type": "markdown",
      "metadata": {
        "id": "2NhPXlV4ziE7"
      },
      "source": [
        "##• Detect and address outliers or anomalies in the dataset."
      ]
    },
    {
      "cell_type": "markdown",
      "source": [
        "**Checking Unique Values:**\n",
        "\n",
        "**Purpose:** Detect anomalies or unexpected values in each column.<br>\n",
        "**Method:** Iterates through each column to identify unique values.<br>\n",
        "**Output:** Prints the column name along with its unique values."
      ],
      "metadata": {
        "id": "nkqcy0FdxvtC"
      }
    },
    {
      "cell_type": "markdown",
      "metadata": {
        "id": "KQ4L65TE2hd4"
      },
      "source": [
        "##• Perform any necessary feature engineering or transformation."
      ]
    },
    {
      "cell_type": "markdown",
      "source": [
        "**One-Hot Encoding:**\n",
        "\n",
        "**Method:** Utilizes Pandas' get_dummies function to convert categorical variables into numerical format.<br>\n",
        "**Drop First:** Drops the first category for each encoded variable to avoid multicollinearity.<br>\n",
        "**Result:** Produces an encoded dataset where each categorical variable is represented by a set of binary columns."
      ],
      "metadata": {
        "id": "MjJ-E3h2xUKr"
      }
    },
    {
      "cell_type": "markdown",
      "metadata": {
        "id": "MTaOTILu4DWU"
      },
      "source": [
        "#**C. Exploratory Data Analysis (EDA):**"
      ]
    },
    {
      "cell_type": "markdown",
      "metadata": {
        "id": "Nxi6TUH0-nKE"
      },
      "source": [
        "##• Utilize Pandas and NumPy for in-depth data analysis."
      ]
    },
    {
      "cell_type": "markdown",
      "source": [
        "####In depth Analysis Summary and Results:\n",
        "\n",
        "**Dataset Overview and Basic Analysis:**\n",
        "\n",
        "- **Head:** Displays the first few rows of the dataset to understand its structure and contents.\n",
        "- **Info:** Provides information about the dataset, including the data types and the presence of missing values.\n",
        "- **Missing Values:** Checks for missing values in the dataset to ensure data completeness.\n",
        "- **Describe:** Gives basic statistics for numerical columns, including count, mean, standard deviation, minimum, maximum, and quartile values.\n",
        "- **Unique Values:** Shows the number of unique values in each column, useful for understanding data diversity.\n",
        "- **Class Distribution:** Displays the count of each class in the target variable to understand class balance.\n",
        "- **One-Hot Encoding:** Encodes categorical variables into binary format for modeling purposes.\n",
        "\n",
        "**Feature Distribution and Transformation:**\n",
        "\n",
        "- **Feature Distribution:** Displays the distribution of values for each feature to understand their range and spread.\n",
        "- **Conversion to NumPy Array:** Converts the DataFrame to a NumPy array for numerical computations.\n",
        "- **Mean and Standard Deviation:** Computes the mean and standard deviation for each feature using NumPy for normalization or standardization."
      ],
      "metadata": {
        "id": "gOgOuAtXwrfH"
      }
    },
    {
      "cell_type": "markdown",
      "metadata": {
        "id": "V1yqRWKBCD5l"
      },
      "source": [
        "##• Conduct statistical analysis, including measures of central tendency, dispersion, and correlation."
      ]
    },
    {
      "cell_type": "markdown",
      "source": [
        "Statistical Analysis Summary and Results:\n",
        "\n",
        "**Summary Statistics:**\n",
        "\n",
        "- The summary statistics provide a comprehensive view of the dataset's numerical attributes, including count, mean, standard deviation, minimum, maximum, and quartile values.\n",
        "- These statistics help understand the distribution and central tendencies of numerical features.\n",
        "\n",
        "**Mode for Each Column (Measures of Central Tendency):**\n",
        "\n",
        "- The mode represents the most frequently occurring value in each column.\n",
        "- It gives insights into the most common values for categorical and discrete numerical features.\n",
        "\n",
        "**Cardinality for Each Categorical Column:**\n",
        "\n",
        "- Cardinality refers to the number of unique values in each categorical column.\n",
        "- It helps understand the diversity and uniqueness of values in categorical features.\n",
        "\n",
        "**Spearman Correlation Matrix:**\n",
        "\n",
        "- The Spearman correlation matrix provides insights into the monotonic relationships between numerical features.\n",
        "- It helps identify variables that tend to increase or decrease together, even if the relationship is not linear."
      ],
      "metadata": {
        "id": "JvQSrKM6wCQv"
      }
    },
    {
      "cell_type": "markdown",
      "metadata": {
        "id": "Q6L-tay0EnBH"
      },
      "source": [
        "##• Perform advanced grouping and aggregation, exploring relationships between multiple variables."
      ]
    },
    {
      "cell_type": "markdown",
      "source": [
        "####Summary and Results:\n",
        "\n",
        "- **Odor and Class Grouping:**\n",
        "  - The grouped data shows the count of mushrooms for each combination of odor and class (edible or poisonous).\n",
        "  - This analysis helps in understanding the distribution of odors among edible and poisonous mushrooms, which can be crucial for identification.\n",
        "\n",
        "- **Habitat and Class Grouping:**\n",
        "  - By grouping mushrooms based on habitat and class, we get a count for each combination.\n",
        "  - This grouping provides insights into which habitats are more likely to host edible or poisonous mushrooms, aiding in safer foraging practices.\n",
        "\n",
        "- **Cap Shape and Class Grouping:**\n",
        "  - Grouping mushrooms by cap shape and class reveals the count of mushrooms for each combination.\n",
        "  - This information can indicate if certain cap shapes are more prevalent among edible or poisonous mushrooms, which might be helpful in mushroom identification."
      ],
      "metadata": {
        "id": "hzaoP1UTvRkw"
      }
    },
    {
      "cell_type": "markdown",
      "metadata": {
        "id": "jOa_8nWCFsU5"
      },
      "source": [
        "##• Extract meaningful insights from the data through descriptive statistics."
      ]
    },
    {
      "cell_type": "markdown",
      "source": [
        "#### Analysis Summary and Results:\n",
        "\n",
        "**Dataset Information:**\n",
        "- The dataset contains 8124 entries and 23 columns.\n",
        "- There are no missing values in any of the columns.\n",
        "- All columns have the appropriate data types.\n",
        "\n",
        "**Summary Statistics:**\n",
        "- Provides a statistical summary of numerical columns.\n",
        "- Helps in understanding the distribution and range of values for each feature.\n",
        "\n",
        "**Class Distribution:**\n",
        "- Indicates the number of edible (class 0) and poisonous (class 1) mushrooms.\n",
        "- Helps in understanding the balance or imbalance in the dataset.\n",
        "\n",
        "**Odor Distribution:**\n",
        "- Shows the frequency of each unique odor type in the dataset.\n",
        "- Odor is a significant feature in mushroom classification, as certain odors can indicate toxicity.\n",
        "\n",
        "**Cap Color Distribution:**\n",
        "- Displays the frequency of each cap color in the dataset.\n",
        "- Cap color is another important feature in mushroom classification.\n",
        "\n",
        "**Correlation Matrix:**\n",
        "- Shows the correlation between different features in the dataset.\n",
        "- Helps in understanding relationships between features and their potential impact on the target variable (class).\n",
        "- Spearman correlation is used, which is suitable for ordinal or ranked data.\n",
        "\n",
        "**Meaningful Insights:**\n",
        "- The dataset is clean with no missing values, making it ready for analysis.\n",
        "- There is a balanced distribution between edible and poisonous mushrooms, which is important for training classifiers.\n",
        "- Certain features like odor and cap color may be strong indicators of mushroom toxicity, as they have distinct distributions.\n",
        "- The correlation matrix can guide feature selection, highlighting potentially important features for classification models."
      ],
      "metadata": {
        "id": "ac5JtAnsuW6-"
      }
    },
    {
      "cell_type": "markdown",
      "metadata": {
        "id": "NkiQRnhZZyId"
      },
      "source": [
        "#**D. Data Visualization:**"
      ]
    },
    {
      "cell_type": "markdown",
      "metadata": {
        "id": "KPLMbrkJbCTo"
      },
      "source": [
        "##• Create a variety of visualizations using Matplotlib and Seaborn.\n",
        "##• Include histograms, box plots, scatter plots, and correlation matrices.\n",
        "##• Implement interactive visualizations if applicable, using tools like Plotly. (Optional)\n",
        "##• Clearly annotate and label visualizations for effective communication."
      ]
    },
    {
      "cell_type": "markdown",
      "source": [
        "**Histogram:**\n",
        "\n",
        "- **Purpose**: Generate histograms for each feature in a dataset to visualize the distribution of values.\n",
        "- **Input**: DataFrame (df_encoded) with encoded categorical features, 'LabelEncoder' for feature encoding.\n",
        "- **Steps**:\n",
        "  1. **Import Libraries**: Import 'matplotlib.pyplot', 'seaborn', and 'LabelEncoder'.\n",
        "  2. **Encode Features**: Use 'LabelEncoder' to encode categorical features in the dataset.\n",
        "  3. **Plot Histograms**: For each feature, plot a histogram with specified settings (e.g., bins, colors).\n",
        "- **Output**: Display histograms showing the distribution of values for each feature."
      ],
      "metadata": {
        "id": "eXmlNHe0kDum"
      }
    },
    {
      "cell_type": "markdown",
      "source": [
        "**BoxPlot:**\n",
        "\n",
        "- **Features Selection**:\n",
        "  - Features such as 'odor', 'gill-color', 'stalk-shape', 'stalk-surface-above-ring', and 'spore-print-color' were selected for boxplots.\n",
        "- **Boxplot Visualization**:\n",
        "  - Boxplots were created to visualize the distribution of selected features for edible and poisonous mushrooms.\n",
        "- **Class Representation**:\n",
        "  - The x-axis represents the class, where 0 denotes edible mushrooms and 1 denotes poisonous mushrooms.\n",
        "- **Feature Representation**:\n",
        "  - Each boxplot represents a feature, showing the distribution of its values for both classes.\n",
        "- **Visualization Parameters**:\n",
        "  - The plots are formatted with appropriate labels, including titles, x-axis labels, and y-axis labels, to ensure clarity.\n",
        "\n",
        "  **For the 'odor' feature in both edible and poisonous mushrooms:**\n",
        "\n",
        "- **Edible mushrooms ('class' 0):**\n",
        "  - The boxplot shows a box ranging from 0 to 7 for 'odor'.\n",
        "  - Most of the data falls between 5 and 7, as indicated by the longer box length in this range.\n",
        "  - Outliers are visible at 0 and 3, representing unusual 'odor' values compared to the rest of the edible mushrooms.\n",
        "\n",
        "- **Poisonous mushrooms ('class' 1):**\n",
        "  - The boxplot likely shows a box ranging from 2 to 7 for 'odor'.\n",
        "  - The middle 50% of 'odor' values for poisonous mushrooms fall within this range.\n",
        "  - Outliers, if present, would be shown as points outside this range, indicating uncommon 'odor' values.\n",
        "\n",
        "\n",
        "These observations suggest that 'odor' is a significant factor in distinguishing between edible and poisonous mushrooms, with certain 'odor' values being more common in one class than the other.In such a way all other boxplots can be interpreted as well."
      ],
      "metadata": {
        "id": "UeR3a0Yfm6G4"
      }
    },
    {
      "cell_type": "markdown",
      "source": [
        "**ScatterPlot:**\n",
        "\n",
        "- **X-axis:** The x-axis of each scatter plot represents a specific feature of mushrooms, such as odor, spore print color, gill color, stalk surface above ring, or stalk color above ring. Each point on the x-axis corresponds to a mushroom in the dataset, showing the value of that particular feature for the mushroom.\n",
        "\n",
        "- **Y-axis:** The y-axis represents the class label of mushrooms, where 0 indicates edible mushrooms and 1 indicates poisonous mushrooms. Each point's position on the y-axis indicates whether the mushroom is edible (0) or poisonous (1).\n",
        "\n",
        "- **Scatter Plot:** Scatter plots are used to visualize the relationship between two variables. In this case, they help us understand how each feature is related to the edibility of mushrooms. By plotting the feature values against the class labels, we can see if there are any patterns or trends that differentiate edible from poisonous mushrooms. Each point on the scatter plot represents a mushroom, allowing us to see how the feature values are distributed across the two classes.\n",
        "\n",
        "**For the 'odor' feature in both edible and poisonous mushrooms:**\n",
        "\n",
        "- **X-axis (Odor):** The x-axis represents the different odor types observed in mushrooms, including 'a' (almond), 'l' (anise), and 'n' (none), among others.\n",
        "\n",
        "- **Y-axis (Class):** The y-axis indicates the class label of mushrooms, with 0 representing edible mushrooms and 1 representing poisonous mushrooms.\n",
        "\n",
        "- **Edible Mushrooms:** Points cluster around 'a' (almond), 'l' (anise), and 'n' (none) odor types, indicating that these odor types are more common among edible mushrooms.\n",
        "- **Poisonous Mushrooms:** Points are scattered across multiple odor types, including 'p' (pungent), 'f' (foul), 'c' (creosote), 'y' (fishy), and 's' (spicy), suggesting a wider range of odor types associated with poisonous mushrooms.\n",
        "\n",
        "In such way other scatter plots can also be interpreted easily."
      ],
      "metadata": {
        "id": "0o1JScJWoktG"
      }
    },
    {
      "cell_type": "markdown",
      "source": [
        "**Coorelation Matrix:**\n",
        "\n",
        "- **Correlation Matrix Creation:** The correlation matrix is computed based on the encoded dataset (df_encoded) using the 'corr()' method, which calculates the correlation coefficient between every pair of features.\n",
        "\n",
        "- **Plotting the Matrix:** The resulting correlation matrix is visualized as a heatmap using 'sns.heatmap()'. Each cell in the heatmap represents the correlation coefficient between two features, with values ranging from -1 to 1. A value of 1 indicates a perfect positive correlation, -1 indicates a perfect negative correlation, and 0 indicates no correlation.\n",
        "\n",
        "- **Interpretation:** The heatmap helps in identifying patterns of correlation between features. Features that are highly correlated are close to 1 and are positive like 0.5,0.9 etc. While features that are not highly coorelated are close to -1 such as -0.5,-0.4 etc. Meanwhile 0 indicates no coorelation and 1 indicates perfect coorelation."
      ],
      "metadata": {
        "id": "0OQHnXtbsEte"
      }
    },
    {
      "cell_type": "markdown",
      "source": [
        "**Interactive Scatterplot Using Plotly:**\n",
        "\n",
        "- **X-Axis (Odor):** Represents the odor of mushrooms, ranging from 0 to 7, with each number corresponding to a specific odor type.\n",
        "- **Y-Axis (Spore Print Color):** Represents the color of spore prints, ranging from 0 to 8, with each number corresponding to a specific color.\n",
        "- **Color (Class):** Indicates the class of mushrooms, where blue represents edible mushrooms (class 0) and red represents poisonous mushrooms (class 1).\n",
        "- **Plot Shows:** The scatter plot visually displays the relationship between the odor, spore print color, and class of mushrooms. Each point represents a mushroom, with its position determined by the odor and spore print color, and its color indicating the class (edible or poisonous).\n",
        "- **Interpretation:** This plot helps in identifying any discernible patterns or separations in odor and spore print color that differentiate between edible and poisonous mushrooms. It can reveal clusters or groupings of mushrooms based on these features and their classes."
      ],
      "metadata": {
        "id": "GZf4hOTVtZi0"
      }
    },
    {
      "cell_type": "markdown",
      "source": [
        "#**E. Hypothesis Testing:**"
      ],
      "metadata": {
        "id": "-UUHyz4Xi8zr"
      }
    },
    {
      "cell_type": "markdown",
      "source": [
        "##• Formulate at least two hypotheses related to the dataset."
      ],
      "metadata": {
        "id": "5n22tXhAjD9a"
      }
    },
    {
      "cell_type": "markdown",
      "source": [
        "**Hypothesis 1:**\n",
        "\n",
        "**Null Hypothesis (H0):** There is no association between the 'odor' of mushrooms and their edibility (class).<br>\n",
        "**Alternative Hypothesis (H1):** There is an association between the 'odor' of mushrooms and their edibility (class).\n",
        "\n",
        "**Statistical Test:** Chi-square Test of Independence\n",
        "\n",
        "This test can be used to determine whether there is a significant association between two categorical variables.\n",
        "We will use the 'odor' feature as the independent variable and the 'class' (edible or poisonous) as the dependent variable."
      ],
      "metadata": {
        "id": "BXNmD3uojh5u"
      }
    },
    {
      "cell_type": "markdown",
      "source": [
        "**Results:**\n",
        "\n",
        "- **Chi-Square Test Result**: The chi-square test yielded a very low p-value (close to zero) for the hypothesis concerning the association between the 'odor' of mushrooms and their edibility (class).\n",
        "\n",
        "- **Significant Association**: This result indicates a significant association between the 'odor' of mushrooms and their edibility, suggesting that the type of odor is not independent of whether a mushroom is edible or poisonous.\n",
        "\n",
        "- **Hypothesis Conclusion**: The rejection of the null hypothesis (H0) in favor of the alternative hypothesis (H1) supports the notion that there is indeed an association between 'odor' and 'class' in mushrooms."
      ],
      "metadata": {
        "id": "Xvftyuwjkdt3"
      }
    },
    {
      "cell_type": "markdown",
      "source": [
        "**Hypothesis 2:**\n",
        "\n",
        "**Null Hypothesis (H0):** The mean 'stalk-color-above-ring' for edible mushrooms is the same as the mean for poisonous mushrooms.<br>\n",
        "**Alternative Hypothesis (H1):** The mean 'stalk-color-above-ring' for edible mushrooms is different from the mean for poisonous mushrooms.\n",
        "\n",
        "**Statistical Test:** Independent Samples t-test\n",
        "\n",
        "This test can be used to compare the means of two independent groups.\n",
        "We will use the 'stalk-color-above-ring' feature as the variable of interest and compare the means for edible and poisonous mushrooms."
      ],
      "metadata": {
        "id": "DToB2nYFkK7P"
      }
    },
    {
      "cell_type": "markdown",
      "source": [
        "**Results:**\n",
        "\n",
        "- **T-Test Results**: The independent samples t-test produced a high t-statistic of 14.05, indicating a significant difference in the mean 'stalk-color-above-ring' values between edible and poisonous mushrooms.\n",
        "\n",
        "- **Statistical Significance**: The extremely low p-value (approximately 2.66e-44) underscores the statistical significance of this difference, leading to the rejection of the null hypothesis.\n",
        "\n",
        "- **Conclusion**: These findings strongly support the alternative hypothesis, suggesting a meaningful association between the 'stalk-color-above-ring' feature and the edibility of mushrooms."
      ],
      "metadata": {
        "id": "xJ8YO-EXml98"
      }
    },
    {
      "cell_type": "markdown",
      "source": [
        "#**F. Advanced Analysis:**"
      ],
      "metadata": {
        "id": "nc2BQ6jNWyxP"
      }
    },
    {
      "cell_type": "markdown",
      "source": [
        "##• Apply at-least two machine learning techniques relevant to the dataset.\n",
        "##• Validate model performance and interpret results."
      ],
      "metadata": {
        "id": "v7RNhf_5W6CZ"
      }
    },
    {
      "cell_type": "markdown",
      "source": [
        "### Decision Tree Classification Model\n",
        "\n",
        "#### Summary\n",
        "\n",
        "- **Data Preparation**: The dataset was split into features and target variables, and further divided into training and testing sets (70-30 split).\n",
        "\n",
        "- **Model Training**: A Decision Tree classifier was initialized and trained on the training set.\n",
        "\n",
        "- **Model Evaluation**: The model was evaluated using accuracy, precision, recall, and F1 score. It achieved perfect scores (1.0) on both the test set and cross-validation, indicating excellent performance.\n",
        "\n",
        "- **Performance Metrics**: The model showed high precision, recall, and F1 score for both classes (edible and poisonous).\n",
        "\n",
        "- **Feature Importance**: Feature importance analysis revealed which features were most influential in the classification task.\n",
        "\n",
        "- **Conclusion**: The Decision Tree classifier performed exceptionally well on the mushroom dataset, achieving perfect accuracy and demonstrating its effectiveness for this classification task."
      ],
      "metadata": {
        "id": "iusZbxHQdpGa"
      }
    },
    {
      "cell_type": "markdown",
      "source": [
        "### Random Forest Classification Model\n",
        "\n",
        "####  Summary\n",
        "\n",
        "- **Data Preparation**: The dataset was split into features and target variables, and further divided into training and testing sets (70-30 split).\n",
        "\n",
        "- **Model Training**: A Random Forest classifier with 100 trees was trained on the training set.\n",
        "\n",
        "- **Model Evaluation**: The model was evaluated using accuracy, precision, recall, and F1 score. It achieved perfect accuracy (1.0) on both the test set and cross-validation.\n",
        "\n",
        "- **Performance**: The model showed high precision, recall, and F1 score for both classes (edible and poisonous).\n",
        "\n",
        "- **Insights**: Feature importance analysis revealed which features were most influential in the classification task.\n",
        "\n",
        "- **Conclusion**: The Random Forest classifier performed exceptionally well on the mushroom dataset, indicating its effectiveness for this classification task."
      ],
      "metadata": {
        "id": "1eFzebGIbf1a"
      }
    },
    {
      "cell_type": "markdown",
      "source": [
        "###SVM Classification Model:\n",
        "\n",
        "####Summary:\n",
        "\n",
        "- **Data Preparation:** The dataset was split into features and target variables, and further divided into training and testing sets (70-30 split).\n",
        "\n",
        "- **Model Training:** An SVM classifier with a radial basis function (RBF) kernel was trained on the training set.\n",
        "\n",
        "- **Model Evaluation:** The model was evaluated using accuracy, precision, recall, and F1 score. It achieved high accuracy on both the test set and cross-validation.\n",
        "\n",
        "- **Performance:** The model showed high precision, recall, and F1 score for both classes (edible and poisonous).\n",
        "\n",
        "- **Insights:** Analysis of support vectors and margin may provide further insights into the decision boundaries and separation of classes.\n",
        "- **Conclusion:** The SVM classifier performed exceptionally well on the mushroom dataset, indicating its effectiveness for this classification task."
      ],
      "metadata": {
        "id": "xNWthbEh8T91"
      }
    }
  ],
  "metadata": {
    "colab": {
      "provenance": []
    },
    "kernelspec": {
      "display_name": "Python 3",
      "name": "python3"
    },
    "language_info": {
      "name": "python"
    }
  },
  "nbformat": 4,
  "nbformat_minor": 0
}